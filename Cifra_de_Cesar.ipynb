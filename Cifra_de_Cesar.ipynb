{
  "nbformat": 4,
  "nbformat_minor": 0,
  "metadata": {
    "colab": {
      "provenance": [],
      "collapsed_sections": [],
      "authorship_tag": "ABX9TyO9a61pVkXATfiO4H/UFqbT",
      "include_colab_link": true
    },
    "kernelspec": {
      "name": "python3",
      "display_name": "Python 3"
    },
    "language_info": {
      "name": "python"
    }
  },
  "cells": [
    {
      "cell_type": "markdown",
      "metadata": {
        "id": "view-in-github",
        "colab_type": "text"
      },
      "source": [
        "<a href=\"https://colab.research.google.com/github/evicsouza/CifraDeCesar/blob/master/Cifra_de_Cesar.ipynb\" target=\"_parent\"><img src=\"https://colab.research.google.com/assets/colab-badge.svg\" alt=\"Open In Colab\"/></a>"
      ]
    },
    {
      "cell_type": "code",
      "execution_count": null,
      "metadata": {
        "colab": {
          "base_uri": "https://localhost:8080/"
        },
        "id": "5Q8kLKb1kyR1",
        "outputId": "3db30682-3278-4780-b0c8-582455530ef4"
      },
      "outputs": [
        {
          "output_type": "stream",
          "name": "stdout",
          "text": [
            "  Original: a ligeira raposa marrom saltou sobre o cachorro cansado...,\n",
            "Encriptada: fcqnljnwfcwfutyfcrfwwtrcyfqztAcytgwjctchfhmtwwtchfsyfiteeed\n",
            "Decriptada: a ligeira raposa marrom saltou sobre o cachorro cansado...,\n"
          ]
        }
      ],
      "source": [
        "MODE_ENCRYPT = 1\n",
        "MODE_DECRYPT = 0\n",
        "\n",
        "def caesar(data, key, mode):\n",
        "    alphabet = 'abcdefghijklmnopqrstuvwyzABCDEFGHIJKLMNOPQRSTUVWXYZ ,.'\n",
        "    new_data = ''\n",
        "    for c in data:\n",
        "        index = alphabet.find(c)\n",
        "        if index == -1:\n",
        "            new_data += c\n",
        "        else:\n",
        "            new_index = index + key if mode == MODE_ENCRYPT else index - key\n",
        "            new_index = new_index % len(alphabet)\n",
        "            new_data += alphabet[new_index:new_index+1]\n",
        "    return new_data\n",
        "\n",
        "# Tests\n",
        "key = 5\n",
        "original = 'a ligeira raposa marrom saltou sobre o cachorro cansado...,'\n",
        "print('  Original:', original)\n",
        "ciphered = caesar(original, key, MODE_ENCRYPT)\n",
        "print('Encriptada:', ciphered)\n",
        "plain = caesar(ciphered, key, MODE_DECRYPT)\n",
        "print('Decriptada:', plain)"
      ]
    }
  ]
}